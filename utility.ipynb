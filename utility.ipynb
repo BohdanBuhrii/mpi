{
 "cells": [
  {
   "cell_type": "code",
   "execution_count": 3,
   "id": "67bf8180",
   "metadata": {},
   "outputs": [],
   "source": [
    "import numpy as np"
   ]
  },
  {
   "cell_type": "code",
   "execution_count": 42,
   "id": "2aab34c5",
   "metadata": {},
   "outputs": [],
   "source": [
    "def get_random_matrix(N, M):\n",
    "  # discrete uniform distribution on [-10, 10]\n",
    "  return np.random.randint(19, size=(N, M)) + np.random.rand(N,M) - 10"
   ]
  },
  {
   "cell_type": "code",
   "execution_count": 37,
   "id": "3d572aac",
   "metadata": {},
   "outputs": [],
   "source": [
    "def generate_data(N, M):\n",
    "  np.save('matrix_multiplication/data/{}_{}.npy'.format(N, M), get_random_matrix(N, M))\n",
    "  np.save('matrix_multiplication/data/{}.npy'.format(M), get_random_matrix(M, 1))"
   ]
  },
  {
   "cell_type": "code",
   "execution_count": 52,
   "id": "6da5ee11",
   "metadata": {},
   "outputs": [],
   "source": [
    "def verify_result(N, M):\n",
    "  matrix = np.load('matrix_multiplication/data/{}_{}.npy'.format(N, M), allow_pickle=True)\n",
    "  vector = np.load('matrix_multiplication/data/{}.npy'.format(M), allow_pickle=True)\n",
    "  result = np.load('matrix_multiplication/data/{}_{}_result.npy'.format(N, M), allow_pickle=True)\n",
    "\n",
    "  correct_result = np.dot(matrix, vector)\n",
    "\n",
    "  return np.allclose(result, correct_result)"
   ]
  },
  {
   "cell_type": "code",
   "execution_count": 53,
   "id": "2d7651a0",
   "metadata": {},
   "outputs": [
    {
     "data": {
      "text/plain": [
       "True"
      ]
     },
     "execution_count": 53,
     "metadata": {},
     "output_type": "execute_result"
    }
   ],
   "source": [
    "verify_result(1000, 1000)"
   ]
  },
  {
   "cell_type": "code",
   "execution_count": null,
   "id": "bfd82e7b",
   "metadata": {},
   "outputs": [],
   "source": []
  }
 ],
 "metadata": {
  "interpreter": {
   "hash": "89957a983993c4a9c144f61af9c076707dd02d3d0f57463a5cf1f28e6923b25d"
  },
  "kernelspec": {
   "display_name": "Python 3.9.7 64-bit",
   "language": "python",
   "name": "python3"
  },
  "language_info": {
   "codemirror_mode": {
    "name": "ipython",
    "version": 3
   },
   "file_extension": ".py",
   "mimetype": "text/x-python",
   "name": "python",
   "nbconvert_exporter": "python",
   "pygments_lexer": "ipython3",
   "version": "3.9.7"
  }
 },
 "nbformat": 4,
 "nbformat_minor": 5
}
